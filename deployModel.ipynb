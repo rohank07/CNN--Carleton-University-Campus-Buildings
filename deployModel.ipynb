{
  "nbformat": 4,
  "nbformat_minor": 0,
  "metadata": {
    "colab": {
      "name": "deployModel.ipynb",
      "provenance": [],
      "collapsed_sections": []
    },
    "kernelspec": {
      "name": "python3",
      "display_name": "Python 3"
    }
  },
  "cells": [
    {
      "cell_type": "markdown",
      "metadata": {
        "id": "GNSa4IkExiFq",
        "colab_type": "text"
      },
      "source": [
        "\n",
        "**Student names:  Rohan Katkar**\n",
        "\n",
        "**Student numbers: 101005880** \n",
        "\n"
      ]
    },
    {
      "cell_type": "markdown",
      "metadata": {
        "id": "CL_oAMJIxlIK",
        "colab_type": "text"
      },
      "source": [
        "# Discussion of Solution\n",
        "Your notebook must begin with **this** text cell containing a description of your solution. In this discussion, include links to any resources that you used in developing your solution. Use proper MarkDown syntax to format your discussion.**This description should be approximately 500 words in length and cover the following:**\n",
        "\n",
        "1. Which machine learning approach did you use?\n",
        "The ML approach used is CNN, using convolution, pooling and RELU layers\n",
        "\n",
        "2. How did you split your data between training and testing? \n",
        "_(e.g. hold-out test, cross-validation, repeated bootstrap samples, etc)_\n",
        "We split our data into 2 test sets, training and testing. We split 20% of the entire dataset into the testing and 80% for training. \n",
        " \n",
        "\n",
        "3. How did you train your classifier?\n",
        "We trained our model with 50 epochs with 50 steps per epoch with batch sizes of 50.\n",
        "\n",
        "4. How did you estimate your future performance _(worst recall, best precision, overall accuracy)_?\n",
        "\n",
        "   **Here are our final predictions:**\n",
        "   1. Building with worst recall: RB\n",
        "   2. Building with best precision: DT\n",
        "   3. Overall accuracy: 0.07258065\n",
        "\n",
        "5. Discuss the performance of your model. Which buildings did it do the best/worst on and why? What are the strengths and limitations of your method. \n",
        "The performance of our model was not very strong. But the greatest percision was for Dunton tower. This building has specific features, helping recognizing the building from all angles.\n",
        "It did not predict well for Robertson and Southam. Given that their building features are quite similar in terms of height and structure. \n",
        "\n",
        "6. What would you have done differently if you had more time?\n",
        "If we had more time on our hands we could have experimented with different models and tweak the hyperparameters to see the differences in our accuracy and precision. With exams and assignments due at the end of the term, it was a bit challenging to allocate time for this assignment."
      ]
    },
    {
      "cell_type": "code",
      "metadata": {
        "id": "nK2XzL2GxmwC",
        "colab_type": "code",
        "colab": {}
      },
      "source": [
        ""
      ],
      "execution_count": 0,
      "outputs": []
    },
    {
      "cell_type": "markdown",
      "metadata": {
        "id": "_-EpZGokxtNa",
        "colab_type": "text"
      },
      "source": [
        "#Required functions to test your method\n",
        "_These are the five required methods that you must implement._"
      ]
    },
    {
      "cell_type": "markdown",
      "metadata": {
        "id": "LYwIvM7uxtDR",
        "colab_type": "text"
      },
      "source": [
        "## prepareModel()\n",
        "This function should prepare your model for multiple invocations of classifyImage(fname). For example, this function could be used to load a pre-trained model from a URL, where that model is then used by  classifyImage(fname). You should use global variables for any variables initialized by this function.\n",
        "\n",
        "Runtime of this method is **limited to 5 minutes**, so please don’t retrain your network here. All training should be captured in a pre-trained model to be loaded by this method.\n"
      ]
    },
    {
      "cell_type": "code",
      "metadata": {
        "id": "CNMEiVIQxwgi",
        "colab_type": "code",
        "colab": {}
      },
      "source": [
        "!wget https://github.com/rohank07/ML_A3/blob/master/model.zip?raw=true\n",
        "!unzip model.zip?raw=true\n",
        "\n",
        "from keras.models import load_model\n",
        "from google.colab import files\n"
      ],
      "execution_count": 0,
      "outputs": []
    },
    {
      "cell_type": "code",
      "metadata": {
        "id": "L8fjRBZk7Ver",
        "colab_type": "code",
        "colab": {}
      },
      "source": [
        "import numpy as np\n",
        "from PIL import Image\n",
        "import matplotlib.pyplot as plt\n",
        "from keras.models import load_model\n",
        "# List of building codes to use throughout notebook.\n",
        "buildingCodes = ('AA', 'CB', 'CT', 'DT', 'FH', 'HP', 'HS', 'LB', 'MC', 'ME', 'ML', 'PA', 'RB', 'RO', 'SA', 'TB')\n",
        "\n",
        "def prepareModel():\n",
        "  global model # Sample global variable that you may populate here.\n",
        "  model = load_model('model/model.h5')\n"
      ],
      "execution_count": 0,
      "outputs": []
    },
    {
      "cell_type": "markdown",
      "metadata": {
        "id": "CCbcdipx7dpr",
        "colab_type": "text"
      },
      "source": [
        "## label = classifyImage(fname)\n",
        "Accepts a filename (e.g. ‘test/ME/testImage1.jpg’) of a square JPG image with size at least 500x500 pixels.\n",
        "Returns a 2-character label corresponding to the predicted building (see table of labels above)\n",
        "\n",
        "Any variables initialized by prepareModel() should be declared as global within this function if you want to access them (e.g. a pre-trained model)\n"
      ]
    },
    {
      "cell_type": "code",
      "metadata": {
        "id": "bEyCQvB97e7r",
        "colab_type": "code",
        "colab": {}
      },
      "source": [
        "def classifyImage(fname):\n",
        "  global model\n",
        "  tdf = pd.DataFrame(columns=[\"Image\",\"label\"])\n",
        "  tdf.loc[0] = [fname,\"\"]\n",
        "  pred_gen = ImageDataGenerator(rescale = 1./255,\n",
        "    fill_mode='nearest',\n",
        "    width_shift_range=0.2,\n",
        "    height_shift_range=0.2)\n",
        "  predict_generator = pred_gen.flow_from_dataframe(\n",
        "      tdf,\n",
        "      x_col= \"x_col\", \n",
        "      y_col = \"y_col\", \n",
        "      target_size=(500,500), \n",
        "      batch_size=50)\n",
        "  print(\"Predicting class of '{0:s}' using model '{1:s}'\".format(fname,model))\n",
        "  predict = model.predict(predict_generator)\n",
        "  return buildingCodes[np.argmax(predict[0])] "
      ],
      "execution_count": 0,
      "outputs": []
    },
    {
      "cell_type": "markdown",
      "metadata": {
        "id": "oxlLt0bl8Pld",
        "colab_type": "text"
      },
      "source": [
        "## label = worstRecall()\n",
        "Returns the label of a building that you expect will have to lowest recall, when tested on new images"
      ]
    },
    {
      "cell_type": "code",
      "metadata": {
        "id": "KXIfcA-h8Qy8",
        "colab_type": "code",
        "colab": {}
      },
      "source": [
        "def worstRecall():\n",
        "  return buildingCodes[12] #Default behaviour to override\n"
      ],
      "execution_count": 0,
      "outputs": []
    },
    {
      "cell_type": "markdown",
      "metadata": {
        "id": "x7TXH5Um8g2E",
        "colab_type": "text"
      },
      "source": [
        "## label = bestPrecision()\n",
        "Returns the label of a building that you expect will have to highest precision, when tested on new images"
      ]
    },
    {
      "cell_type": "code",
      "metadata": {
        "id": "LgEDW_C18gT8",
        "colab_type": "code",
        "colab": {}
      },
      "source": [
        "def bestPrecision():\n",
        "  return buildingCodes[3] #Default behaviour to override\n"
      ],
      "execution_count": 0,
      "outputs": []
    },
    {
      "cell_type": "markdown",
      "metadata": {
        "id": "o3x-0ZEa85EU",
        "colab_type": "text"
      },
      "source": [
        "\n",
        "\n",
        "```\n",
        "# This is formatted as code\n",
        "```\n",
        "\n",
        "##acc_score = estimatedAccuracy()\n",
        "Returns the accuracy (between [0.0,1.0]) that you expect to achieve across all test images, assuming that each building is equally represented\n"
      ]
    },
    {
      "cell_type": "code",
      "metadata": {
        "id": "koCbpSHu89Ak",
        "colab_type": "code",
        "colab": {}
      },
      "source": [
        "# Function to return estimated accuracy that will be obtained across all test images\n",
        "def estimatedAccuracy():\n",
        "  return 0.07258065 "
      ],
      "execution_count": 0,
      "outputs": []
    },
    {
      "cell_type": "markdown",
      "metadata": {
        "id": "qwVIFW_q905s",
        "colab_type": "text"
      },
      "source": [
        "##acc_score = estimatedAccuracy()\n",
        "Returns the accuracy (between [0.0,1.0]) that you expect to achieve across all test images, assuming that each building is equally represented\n"
      ]
    },
    {
      "cell_type": "code",
      "metadata": {
        "id": "NT54nVtx9t99",
        "colab_type": "code",
        "colab": {}
      },
      "source": [
        "# Function to return estimated accuracy that will be obtained across all test images\n",
        "def estimatedAccuracy():\n",
        "  return 1.0 #Default behaviour to override"
      ],
      "execution_count": 0,
      "outputs": []
    },
    {
      "cell_type": "markdown",
      "metadata": {
        "id": "ZI8nyMlE97Oc",
        "colab_type": "text"
      },
      "source": [
        "# Test required functions\n",
        "_We will replace the text below with our actual test code..._"
      ]
    },
    {
      "cell_type": "code",
      "metadata": {
        "id": "pzvLYlIA97yc",
        "colab_type": "code",
        "colab": {}
      },
      "source": [
        "import numpy as np\n",
        "from PIL import Image, ExifTags\n",
        "import matplotlib.pyplot as plt\n",
        "from glob import glob\n",
        "\n",
        "\n",
        "# First prepare the model:\n",
        "prepareModel() # Limited to 5 minutes...\n",
        "\n",
        "# Load (secret) test data into local Colab environment\n",
        "!wget https://github.com/jrgreen7/SYSC4906/blob/master/Assignments/Assignment3/Images/SampleImages.zip?raw=true\n",
        "!unzip SampleImages.zip?raw=true #Should create 4 images\n",
        "test_images = sorted(glob('SampleImages/*.jpg'))\n",
        "actual_labels = (buildingCodes[0],buildingCodes[1],buildingCodes[3],buildingCodes[6])\n",
        "\n",
        "# Classify sample test images:\n",
        "TP = 0\n",
        "for imgFname,actual_label in (zip(test_images,actual_labels)):\n",
        "  pred_label = classifyImage(imgFname) # Predict the label of this image file\n",
        "\n",
        "  # Plot the image with actual and predicted labels\n",
        "  # Note that we may have to rotate the image, depending on the \n",
        "  # orientation of the camera. Use EXIF tags for this:\n",
        "  im = Image.open(imgFname)\n",
        "  for orientation in ExifTags.TAGS.keys() : \n",
        "    if ExifTags.TAGS[orientation]=='Orientation' : break \n",
        "  exif=dict(im._getexif().items())\n",
        "\n",
        "  if exif[orientation] == 3 : \n",
        "    im=im.rotate(180, expand=True)\n",
        "  elif exif[orientation] == 6 : \n",
        "    im=im.rotate(270, expand=True)\n",
        "  elif exif[orientation] == 8 : \n",
        "    im=im.rotate(90, expand=True)\n",
        "\n",
        "  im = im.convert('RGB') # May not be necessary?\n",
        "\n",
        "  plt.title(\"Sample test image of {0:s} predicted as {1:s}\".format(actual_label, pred_label))\n",
        "  plt.imshow(np.asarray(im))\n",
        "  plt.axis('off')\n",
        "  plt.show()\n",
        "\n",
        "  if (pred_label==actual_label):\n",
        "    print('Correct!')\n",
        "    TP += 1\n",
        "  else:\n",
        "    print(\"Incorrect...\")\n",
        "\n",
        "# Print the predicted performance:\n",
        "print(\"Expected that worst recall would be on {0:s}\".format(worstRecall()))\n",
        "print(\"Expected that best precision would be on {0:s}\".format(bestPrecision()))\n",
        "print(\"Expected total accuracy would be {0:.3f}\".format(estimatedAccuracy()))\n",
        "print(\"Actual total accuracy is {0:.3f}\".format((TP)/(len(test_images))))\n"
      ],
      "execution_count": 0,
      "outputs": []
    },
    {
      "cell_type": "code",
      "metadata": {
        "id": "6OIlV6Ty9-30",
        "colab_type": "code",
        "colab": {}
      },
      "source": [
        ""
      ],
      "execution_count": 0,
      "outputs": []
    }
  ]
}